{
 "cells": [
  {
   "cell_type": "code",
   "execution_count": 1,
   "metadata": {},
   "outputs": [],
   "source": [
    "import numpy as np\n",
    "import gym\n",
    "import random\n",
    "import time\n",
    "from IPython.display import clear_output"
   ]
  },
  {
   "cell_type": "markdown",
   "metadata": {},
   "source": [
    "The 'env' object is used to:\n",
    "1. Query for information about the environment\n",
    "2. Sample states and actions\n",
    "3. Retrieve rewards\n",
    "4. Have the agent navigate the frozen lake"
   ]
  },
  {
   "cell_type": "code",
   "execution_count": 2,
   "metadata": {},
   "outputs": [],
   "source": [
    "env = gym.make(\"FrozenLake-v1\")"
   ]
  },
  {
   "cell_type": "markdown",
   "metadata": {},
   "source": [
    "Construct Q-Table and initialize all Q values to 0 for each state action pair"
   ]
  },
  {
   "cell_type": "code",
   "execution_count": 3,
   "metadata": {
    "scrolled": true
   },
   "outputs": [
    {
     "name": "stdout",
     "output_type": "stream",
     "text": [
      "[[0. 0. 0. 0.]\n",
      " [0. 0. 0. 0.]\n",
      " [0. 0. 0. 0.]\n",
      " [0. 0. 0. 0.]\n",
      " [0. 0. 0. 0.]\n",
      " [0. 0. 0. 0.]\n",
      " [0. 0. 0. 0.]\n",
      " [0. 0. 0. 0.]\n",
      " [0. 0. 0. 0.]\n",
      " [0. 0. 0. 0.]\n",
      " [0. 0. 0. 0.]\n",
      " [0. 0. 0. 0.]\n",
      " [0. 0. 0. 0.]\n",
      " [0. 0. 0. 0.]\n",
      " [0. 0. 0. 0.]\n",
      " [0. 0. 0. 0.]]\n"
     ]
    }
   ],
   "source": [
    "# This will be the number of columns in the Q-Table\n",
    "action_space_size = env.action_space.n\n",
    "\n",
    "# This will be the number of rows in the Q-Table\n",
    "state_space_size = env.observation_space.n\n",
    "\n",
    "# Construct Q-Table with all zeros\n",
    "q_table = np.zeros((state_space_size, action_space_size))\n",
    "print(q_table)"
   ]
  },
  {
   "cell_type": "markdown",
   "metadata": {},
   "source": [
    "Initializate parameters needed to implement the Q-learning algorithm\n",
    "\n",
    "- `num_episodes`: total number of episodes we want the agent to play during training\n",
    "- `max_steps_per_episode`: max number of steps the agent is allowed to take within a single episode, after these many steps, the episode terminates\n",
    "\n",
    "- `learning_rate`: alpha - how quickly the agent discards previous Q value for new Q value\n",
    "- `discount_rate`: gamma - by what factor do we reduce the value of a future reward at time t+1\n",
    "\n",
    "- `exploration_rate`: epsilon - probability that the agent will explore the environment\n",
    "- `max_exploration_rate`: maximum epsilon\n",
    "- `min_exploration_rate`: minimum epsilon\n",
    "- `exploration_rate_decay`: the exporation rate will decay by this much in each episode"
   ]
  },
  {
   "cell_type": "code",
   "execution_count": 4,
   "metadata": {},
   "outputs": [],
   "source": [
    "num_episodes = 10000\n",
    "max_steps_per_episode = 100\n",
    "\n",
    "learning_rate = 0.2\n",
    "discount_rate = 0.99\n",
    "\n",
    "exploration_rate = 1\n",
    "max_exploration_rate = 1\n",
    "min_exploration_rate = 0.01\n",
    "exploration_decay_rate = 0.001"
   ]
  },
  {
   "cell_type": "markdown",
   "metadata": {},
   "source": [
    "Implement the Q-learning algorithm"
   ]
  },
  {
   "cell_type": "code",
   "execution_count": 5,
   "metadata": {},
   "outputs": [
    {
     "name": "stdout",
     "output_type": "stream",
     "text": [
      "*******Average reward per thousand episodes*******\n",
      "\n",
      "1000 :  0.03800000000000003\n",
      "2000 :  0.17900000000000013\n",
      "3000 :  0.36400000000000027\n",
      "4000 :  0.5410000000000004\n",
      "5000 :  0.6350000000000005\n",
      "6000 :  0.6580000000000005\n",
      "7000 :  0.6730000000000005\n",
      "8000 :  0.6410000000000005\n",
      "9000 :  0.6860000000000005\n",
      "10000 :  0.6740000000000005\n",
      "\n",
      "\n",
      "*******Q-table*******\n",
      "\n",
      "[[0.55574479 0.49143338 0.47938168 0.46480604]\n",
      " [0.26186033 0.23881211 0.31012792 0.49111991]\n",
      " [0.40119114 0.3850676  0.40894843 0.45908701]\n",
      " [0.34104128 0.34153173 0.38980491 0.44027588]\n",
      " [0.56565681 0.30418982 0.42132169 0.3605739 ]\n",
      " [0.         0.         0.         0.        ]\n",
      " [0.35577389 0.12354596 0.16055015 0.04681856]\n",
      " [0.         0.         0.         0.        ]\n",
      " [0.47083841 0.32177694 0.37793691 0.57907305]\n",
      " [0.46354762 0.62530725 0.41598707 0.42018161]\n",
      " [0.59337128 0.42083718 0.24956589 0.31677998]\n",
      " [0.         0.         0.         0.        ]\n",
      " [0.         0.         0.         0.        ]\n",
      " [0.44838391 0.43252517 0.7016307  0.35754683]\n",
      " [0.68934888 0.88960604 0.71702358 0.69000755]\n",
      " [0.         0.         0.         0.        ]]\n"
     ]
    }
   ],
   "source": [
    "# List to hold the cumulative rewards from all episodes to see how the game scores change over time\n",
    "rewards_all_episodes = []\n",
    "\n",
    "# Q-learning algorithm\n",
    "# For each episode\n",
    "for episode in range(num_episodes):\n",
    "    # Reset state to starting state\n",
    "    state = env.reset()\n",
    "    \n",
    "    # This variable keeps track of whether or not the episode is finished\n",
    "    done = False\n",
    "    \n",
    "    # Cumulative reward for this episode\n",
    "    rewards_current_episode = 0\n",
    "    \n",
    "    # For each timestep in the episode\n",
    "    for step in range(max_steps_per_episode):\n",
    "        \n",
    "        # Exploration-exploitation trade-off\n",
    "        exploration_rate_threshold = random.uniform(0, 1)\n",
    "        if(exploration_rate_threshold > exploration_rate):\n",
    "            # Choose the action with the highest q value for this state (exploitation)\n",
    "            action = np.argmax(q_table[state, :])\n",
    "        else:\n",
    "            # Choose a random action from the action space (exploration)\n",
    "            action = env.action_space.sample()\n",
    "        \n",
    "        # Take the chosen action and receive the reward, next state, and other info\n",
    "        new_state, reward, done, info = env.step(action)\n",
    "        \n",
    "        # Update Q-table for Q(s, a)\n",
    "        q_table[state, action] = q_table[state, action] * (1 - learning_rate) + \\\n",
    "            learning_rate * (reward + discount_rate * np.max(q_table[new_state, :]))\n",
    "        \n",
    "        # Update state and cumulative reward\n",
    "        state = new_state\n",
    "        rewards_current_episode += reward\n",
    "        \n",
    "        # If the agent reached the goal or fell through a hole, end the episode\n",
    "        if(done == True):\n",
    "            break\n",
    "        \n",
    "    # Exploration rate decay for next episode with this formula (exponential decay)\n",
    "    exploration_rate = min_exploration_rate + \\\n",
    "        (max_exploration_rate - min_exploration_rate) * np.exp(-exploration_decay_rate * episode)\n",
    "    \n",
    "    # Append cumulative reward from this episode to the list of all cumulative rewards\n",
    "    rewards_all_episodes.append(rewards_current_episode)\n",
    "    \n",
    "# Calculate and print the average reward per thousand episodes\n",
    "rewards_per_thousand_episodes = np.split(np.array(rewards_all_episodes), num_episodes/1000)\n",
    "count = 1000\n",
    "print(\"*******Average reward per thousand episodes*******\\n\")\n",
    "for r in rewards_per_thousand_episodes:\n",
    "    print(count, \": \", str(sum(r/1000)))\n",
    "    count += 1000\n",
    "\n",
    "# Print updated Q-table\n",
    "print(\"\\n\\n*******Q-table*******\\n\")\n",
    "print(q_table)"
   ]
  },
  {
   "cell_type": "markdown",
   "metadata": {},
   "source": [
    "The average reward per 10000 episodes is improving. In the last 1000 episodes, the agent was winning ~67% of the time. Keep in mind that the ice is slipery and the agent doesn't always move in the direction it intends to move in. Therefore, the agent is learning.\n",
    "\n",
    "#### Watching the Agent Play\n",
    "The next block of code helps visualize how the trained agent plays the FrozenLake game."
   ]
  },
  {
   "cell_type": "code",
   "execution_count": 6,
   "metadata": {},
   "outputs": [
    {
     "name": "stdout",
     "output_type": "stream",
     "text": [
      "  (Down)\n",
      "SFFF\n",
      "FHFH\n",
      "FFFH\n",
      "HFF\u001b[41mG\u001b[0m\n",
      "****You reached the goal!****\n"
     ]
    }
   ],
   "source": [
    "# Watch it play 3 episodes\n",
    "for episode in range(3):\n",
    "    state = env.reset()\n",
    "    \n",
    "    done = False\n",
    "    print(\"*****EPISODE \", episode+1, \"*****\\n\\n\\n\\n\")\n",
    "    time.sleep(1)\n",
    "    \n",
    "    for step in range(max_steps_per_episode):\n",
    "        # Clear output from this cell, wait until there is another output before clearing the current output\n",
    "        clear_output(wait=True)\n",
    "        \n",
    "        # Render the current state of the environment to the display so that we can visually see it\n",
    "        env.render()\n",
    "        \n",
    "        # Sleep for 0.3 seconds so we have time to see the observe state of the environment\n",
    "        time.sleep(0.3)\n",
    "        \n",
    "        # Pick and take an action\n",
    "        action = np.argmax(q_table[state,:])\n",
    "        new_state, reward, done, info = env.step(action)\n",
    "        \n",
    "        if done:\n",
    "            clear_output(wait=True)\n",
    "            \n",
    "            # Render the environment to see where the agent ended up\n",
    "            env.render()\n",
    "            \n",
    "            if(reward == 1):\n",
    "                print(\"****You reached the goal!****\")\n",
    "                time.sleep(3)\n",
    "            else:\n",
    "                print(\"****You fell through a hole!****\")\n",
    "                time.sleep(3)\n",
    "            \n",
    "            clear_output(wait=True)\n",
    "            break\n",
    "            \n",
    "        state = new_state\n",
    "\n",
    "env.close()"
   ]
  },
  {
   "cell_type": "code",
   "execution_count": null,
   "metadata": {},
   "outputs": [],
   "source": []
  }
 ],
 "metadata": {
  "kernelspec": {
   "display_name": "Python 3",
   "language": "python",
   "name": "python3"
  },
  "language_info": {
   "codemirror_mode": {
    "name": "ipython",
    "version": 3
   },
   "file_extension": ".py",
   "mimetype": "text/x-python",
   "name": "python",
   "nbconvert_exporter": "python",
   "pygments_lexer": "ipython3",
   "version": "3.7.3"
  }
 },
 "nbformat": 4,
 "nbformat_minor": 2
}
